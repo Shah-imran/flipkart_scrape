{
 "cells": [
  {
   "cell_type": "code",
   "execution_count": null,
   "metadata": {
    "ExecuteTime": {
     "end_time": "2021-01-07T19:19:55.686288Z",
     "start_time": "2021-01-07T19:19:55.671293Z"
    }
   },
   "outputs": [],
   "source": [
    "from IPython.core.display import display, HTML\n",
    "display(HTML(\"<style>.container { width:100% !important; }</style>\"))"
   ]
  },
  {
   "cell_type": "code",
   "execution_count": null,
   "metadata": {
    "ExecuteTime": {
     "end_time": "2021-01-09T11:52:25.831993Z",
     "start_time": "2021-01-09T11:52:25.261512Z"
    }
   },
   "outputs": [],
   "source": [
    "import os\n",
    "import time\n",
    "from selenium import webdriver\n",
    "import csv\n",
    "import requests\n",
    "import secrets\n",
    "from selenium.webdriver.common.keys import Keys\n"
   ]
  },
  {
   "cell_type": "code",
   "execution_count": 7,
   "metadata": {
    "ExecuteTime": {
     "end_time": "2021-01-16T17:43:43.146621Z",
     "start_time": "2021-01-16T17:32:18.117059Z"
    }
   },
   "outputs": [
    {
     "name": "stdout",
     "output_type": "stream",
     "text": [
      "Enter links filepath : links.txt\n",
      "Enter output folder : sdf\n",
      "Toys https://www.flipkart.com/toys/pr?sid=mgl&otracker=categorytree\n",
      "Remote Control Toys https://www.flipkart.com/toys/remote-control-toys/pr?sid=mgl,56m&otracker=categorytree\n",
      "Learning & Educational Toys https://www.flipkart.com/toys/educational-toys/learning-toys/pr?sid=mgl%2Cu35&otracker=categorytree\n",
      "Soft Toys https://www.flipkart.com/toys/soft-toys/pr?sid=mgl,1zt&otracker=categorytree\n",
      "Puzzles https://www.flipkart.com/toys/puzzles/pr?sid=mgl,lu4&otracker=categorytree\n",
      "Art & Craft Toys https://www.flipkart.com/toys/educational-toys/art-craft-kits/pr?sid=mgl%2C3wb&otracker=categorytree\n",
      "Outdoor Toys https://www.flipkart.com/toys/outdoor-toys/pr?sid=mgl,1k9&otracker=categorytree\n",
      "Action Figures https://www.flipkart.com/toys/vehicle-action-toys/action-figures/pr?sid=mgl%2Ck00&otracker=categorytree\n",
      "Musical Instruments & Toys https://www.flipkart.com/toys/musical-instruments-toys/pr?sid=mgl,pz4&otracker=categorytree\n",
      "Music Boxes https://www.flipkart.com/toys/musical-toys/music-boxes/pr?sid=mgl,pz4,d0o&otracker=categorytree\n",
      "Baby Toys https://www.flipkart.com/toys/baby-toys/pr?sid=mgl,166&otracker=categorytree\n",
      "Baby Rattles https://www.flipkart.com/toys/infant-toddler-toys/baby-rattles/pr?sid=mgl,166,5gh&otracker=categorytree\n",
      "Bath Toys https://www.flipkart.com/toys/infant-toddler-toys/bath-toys/pr?sid=mgl,166,lvf&otracker=categorytree\n",
      "Crib Toys & Play Gyms https://www.flipkart.com/toys/infant-toddler-toys/crib-toys-play-gyms/pr?sid=mgl,166,y2g&otracker=categorytree\n",
      "Stacking Toys https://www.flipkart.com/toys/infant-toddler-toys/stacking-toys/pr?sid=mgl,166,oaq&otracker=categorytree\n",
      "Rideons https://www.flipkart.com/toys/infant-toddler-toys/rideons/pr?sid=mgl,166,zqe&otracker=categorytree\n",
      "Push & Pull Along https://www.flipkart.com/toys/infant-toddler-toys/push-pull-along/pr?sid=mgl,166,0c7&otracker=categorytree\n",
      "Musical Toys https://www.flipkart.com/toys/infant-toddler-toys/musical-toys/pr?sid=mgl,166,fbp&otracker=categorytree\n",
      "Board Games https://www.flipkart.com/toys/puzzles-board-games/card-games/pr?sid=mgl%2Cqet&otracker=categorytree\n",
      "Card Games https://www.flipkart.com/toys/puzzles-board-games/card-games/pr?sid=mgl%2Cjmb&otracker=categorytree\n",
      "Toy Cars, Trains & Bikes https://www.flipkart.com/toys/toy-cars-trains-bikes/pr?sid=mgl,j6q&otracker=categorytree\n",
      "Dolls & Doll Houses https://www.flipkart.com/toys/dolls-doll-houses/pr?sid=mgl,fnw&otracker=categorytree\n",
      "Dolls & Accessories https://www.flipkart.com/toys/dolls-doll-houses/dolls-accessories/pr?sid=mgl,fnw,lz4&otracker=categorytree\n",
      "Dollhouse Accessories https://www.flipkart.com/toys/dolls-doll-houses/dollhouse-accessories/pr?sid=mgl,fnw,xtl&otracker=categorytree\n",
      "Doll Houses & Play Sets https://www.flipkart.com/toys/dolls-doll-houses/doll-houses-play-sets/pr?sid=mgl,fnw,bum&otracker=categorytree\n",
      "Doll Accessories https://www.flipkart.com/toys/dolls-doll-houses/doll-accessories/pr?sid=mgl,fnw,1iy&otracker=categorytree\n",
      "Wind Spinner Toys https://www.flipkart.com/toys/wind-spinner-toys/pr?sid=mgl,0mt&otracker=categorytree\n",
      "Gag Toys https://www.flipkart.com/toys/gag-toys/pr?sid=mgl,2uk&otracker=categorytree\n",
      "Magic Springs https://www.flipkart.com/toys/magic-springs/pr?sid=mgl,472&otracker=categorytree\n",
      "Toy Sport https://www.flipkart.com/toys/toy-sport/pr?sid=mgl,6b3&otracker=categorytree\n",
      "Hobby Kits https://www.flipkart.com/toys/hobby-kits/pr?sid=mgl,9c4&otracker=categorytree\n",
      "Knitting Design Stations https://www.flipkart.com/toys/hobby-kits/knitting-design-stations/pr?sid=mgl,9c4,6ez&otracker=categorytree\n",
      "Slime & Putty Toys https://www.flipkart.com/toys/slime-putty-toys/pr?sid=mgl,9q2&otracker=categorytree\n",
      "Puppets https://www.flipkart.com/toys/puppets/pr?sid=mgl,jx9&otracker=categorytree\n",
      "Party Supplies https://www.flipkart.com/toys/party-supplies/pr?sid=mgl,ksc&otracker=categorytree\n",
      "Posts and Ropes https://www.flipkart.com/toys/party-supplies/posts-and-ropes/pr?sid=mgl,ksc,2a9&otracker=categorytree\n",
      "Games https://www.flipkart.com/toys/party-supplies/games/pr?sid=mgl,ksc,l7i&otracker=categorytree\n",
      "Equipment & Supplies https://www.flipkart.com/toys/party-supplies/equipment-supplies/pr?sid=mgl,ksc,xjw&otracker=categorytree\n",
      "Cards https://www.flipkart.com/toys/party-supplies/cards/pr?sid=mgl,ksc,cas&otracker=categorytree\n",
      "Balloons & Decoration https://www.flipkart.com/toys/party-supplies/balloons-decoration/pr?sid=mgl,ksc,gcv&otracker=categorytree\n",
      "Balloons https://www.flipkart.com/toys/party-supplies/balloons-decoration/balloons/pr?sid=mgl,ksc,gcv,oam&otracker=categorytree\n",
      "Confetti & Streamers https://www.flipkart.com/toys/party-supplies/balloons-decoration/confetti-streamers/pr?sid=mgl,ksc,gcv,0hy&otracker=categorytree\n",
      "Chair Sashes https://www.flipkart.com/toys/party-supplies/balloons-decoration/chair-sashes/pr?sid=mgl,ksc,gcv,bdt&otracker=categorytree\n",
      "Pinatas https://www.flipkart.com/toys/party-supplies/balloons-decoration/pinatas/pr?sid=mgl,ksc,gcv,01q&otracker=categorytree\n",
      "Banners https://www.flipkart.com/toys/party-supplies/balloons-decoration/banners/pr?sid=mgl,ksc,gcv,jhl&otracker=categorytree\n",
      "Plates & Tableware https://www.flipkart.com/toys/party-supplies/plates-tableware/pr?sid=mgl,ksc,ik0&otracker=categorytree\n",
      "Plates Trays & Dishes https://www.flipkart.com/toys/party-supplies/plates-tableware/plates-trays-dishes/pr?sid=mgl,ksc,ik0,3cb&otracker=categorytree\n",
      "Straws https://www.flipkart.com/toys/party-supplies/plates-tableware/straws/pr?sid=mgl,ksc,ik0,e6l&otracker=categorytree\n",
      "Party & Gift Bags https://www.flipkart.com/toys/party-supplies/party-gift-bags/pr?sid=mgl,ksc,vkl&otracker=categorytree\n",
      "Accessories https://www.flipkart.com/toys/party-supplies/accessories/pr?sid=mgl,ksc,99s&otracker=categorytree\n",
      "Fake Moustaches https://www.flipkart.com/toys/party-supplies/accessories/fake-moustaches/pr?sid=mgl,ksc,99s,ukv&otracker=categorytree\n",
      "Blowouts https://www.flipkart.com/toys/party-supplies/accessories/blowouts/pr?sid=mgl,ksc,99s,l29&otracker=categorytree\n",
      "Place Card Holder https://www.flipkart.com/toys/party-supplies/accessories/place-card-holder/pr?sid=mgl,ksc,99s,vgi&otracker=categorytree\n",
      "Cut Outs https://www.flipkart.com/toys/party-supplies/accessories/cut-outs/pr?sid=mgl,ksc,99s,0kh&otracker=categorytree\n",
      "Minion Goggles https://www.flipkart.com/toys/party-supplies/accessories/minion-goggles/pr?sid=mgl,ksc,99s,uyx&otracker=categorytree\n",
      "Snow Spray https://www.flipkart.com/toys/party-supplies/accessories/snow-spray/pr?sid=mgl,ksc,99s,xo2&otracker=categorytree\n",
      "Can Holder Hats https://www.flipkart.com/toys/party-supplies/accessories/can-holder-hats/pr?sid=mgl,ksc,99s,s1z&otracker=categorytree\n",
      "Bubble Makers https://www.flipkart.com/toys/party-supplies/accessories/bubble-makers/pr?sid=mgl,ksc,99s,zwk&otracker=categorytree\n",
      "Masks https://www.flipkart.com/toys/party-supplies/accessories/masks/pr?sid=mgl,ksc,99s,41h&otracker=categorytree\n",
      "Ball Blow Pipes https://www.flipkart.com/toys/party-supplies/accessories/ball-blow-pipes/pr?sid=mgl,ksc,99s,jsg&otracker=categorytree\n",
      "Sashes https://www.flipkart.com/toys/party-supplies/accessories/sashes/pr?sid=mgl,ksc,99s,2jt&otracker=categorytree\n",
      "Wrist Bands https://www.flipkart.com/toys/party-supplies/accessories/wrist-bands/pr?sid=mgl,ksc,99s,kqn&otracker=categorytree\n",
      "Photo Booth Boards https://www.flipkart.com/toys/party-supplies/accessories/photo-booth-boards/pr?sid=mgl,ksc,99s,wdp&otracker=categorytree\n",
      "Party Glow Ornaments https://www.flipkart.com/toys/party-supplies/accessories/party-glow-ornaments/pr?sid=mgl,ksc,99s,zzv&otracker=categorytree\n",
      "Hats https://www.flipkart.com/toys/party-supplies/accessories/hats/pr?sid=mgl,ksc,99s,61p&otracker=categorytree\n",
      "Helium Tanks https://www.flipkart.com/toys/party-supplies/accessories/helium-tanks/pr?sid=mgl,ksc,99s,cfi&otracker=categorytree\n",
      "Tiaras & Crowns https://www.flipkart.com/toys/party-supplies/accessories/tiaras-crowns/pr?sid=mgl,ksc,99s,arg&otracker=categorytree\n",
      "Ride Ons https://www.flipkart.com/toys/ride-ons/pr?sid=mgl,s1i&otracker=categorytree\n",
      "Tricycles https://www.flipkart.com/toys/tricycles/pr?sid=mgl,sqz&otracker=categorytree\n",
      "Magic Kits https://www.flipkart.com/toys/magic-kits/pr?sid=mgl,t7b&otracker=categorytree\n",
      "Yoyo https://www.flipkart.com/toys/yoyo/pr?sid=mgl,u1r&otracker=categorytree\n"
     ]
    },
    {
     "name": "stdout",
     "output_type": "stream",
     "text": [
      "Sports https://www.flipkart.com/toys/sports/pr?sid=mgl,v1n&otracker=categorytree\n",
      "Tennis https://www.flipkart.com/toys/sports/tennis/pr?sid=mgl,v1n,0ms&otracker=categorytree\n",
      "Football https://www.flipkart.com/toys/sports/football/pr?sid=mgl,v1n,u74&otracker=categorytree\n",
      "Cricket https://www.flipkart.com/toys/sports/cricket/pr?sid=mgl,v1n,g1o&otracker=categorytree\n",
      "Role Play Toys https://www.flipkart.com/toys/role-play-toys/pr?sid=mgl,bbl&otracker=categorytree\n",
      "Spinning & Press-n-Launch Toys https://www.flipkart.com/toys/spinning-pressnlaunch-toys/pr?sid=mgl,hu3&otracker=categorytree\n",
      "Toy Guns & Others https://www.flipkart.com/toys/vehicle-action-toys/battle-toys/pr?sid=mgl%2Cgsh&otracker=categorytree\n",
      "Marbles https://www.flipkart.com/toys/marbles/pr?sid=mgl,qyu&otracker=categorytree\n",
      "Mikado Sticks https://www.flipkart.com/toys/mikado-sticks/pr?sid=mgl,hfq&otracker=categorytree\n",
      "Blocks & Building Sets https://www.flipkart.com/toys/blocks-constructions/pr?sid=mgl%2C61z&otracker=categorytree\n",
      "Finished\n"
     ]
    }
   ],
   "source": [
    "import os\n",
    "import time\n",
    "from selenium import webdriver\n",
    "import json\n",
    "from threading import Thread\n",
    "from selenium.webdriver.chrome.options import Options\n",
    "from selenium.common.exceptions import NoSuchElementException\n",
    "from selenium.webdriver.common.keys import Keys\n",
    "\n",
    "visited_links = []\n",
    "product_list = list()\n",
    "field_names = (\"current_category\", \"filters\", \"product_links\")\n",
    "\n",
    "links_filepath = \"input.txt\"\n",
    "output_filepath = \"output\"\n",
    "\n",
    "sub_categories_class_name = \"_2SqgSY\"\n",
    "total_categories_class_name = \"_2aDURW\"\n",
    "category_in_focus_class_name = \"_1jJQdf\"\n",
    "\n",
    "def read_url():\n",
    "    with open(links_filepath, \"r\", encoding=\"utf-8\") as file:\n",
    "        urls = file.read()\n",
    "        urls = urls.split(\"\\n\")\n",
    "\n",
    "    return urls\n",
    "\n",
    "def check_exists_by_class_name(driver, class_name):\n",
    "    try:\n",
    "        driver.find_element_by_class_name(class_name)\n",
    "    except NoSuchElementException:\n",
    "        return False\n",
    "    return True\n",
    "\n",
    "def re_scrape(driver, root):\n",
    "    \n",
    "    global tab_in_focus, product_list, visited_links\n",
    "    \n",
    "    if driver.current_url not in visited_links or root==True:\n",
    "        visited_links.append(driver.current_url)\n",
    "        try:\n",
    "            if \"more\" in driver.find_elements_by_class_name(sub_categories_class_name)[-1].text:\n",
    "                driver.find_elements_by_class_name(sub_categories_class_name)[-1].click()\n",
    "        except:\n",
    "            pass\n",
    "\n",
    "        total_categories = []\n",
    "        sub_categories = []\n",
    "        sub_categories_links = []\n",
    "        category_in_focus = \"\"\n",
    "\n",
    "        try:\n",
    "            total_categories = driver.find_element_by_class_name(total_categories_class_name).text.replace(\"CATEGORIES\",\"\").strip().split(\"\\n\")\n",
    "            sub_categories = [ item.text for item in driver.find_elements_by_class_name(sub_categories_class_name) ]\n",
    "            sub_categories_links = [ item.get_attribute('href') for item in driver.find_elements_by_class_name(sub_categories_class_name) ]\n",
    "            category_in_focus = driver.find_element_by_class_name(category_in_focus_class_name).text\n",
    "        except:\n",
    "            pass\n",
    "#         print(category_in_focus, driver.current_url)\n",
    "        if len(sub_categories) > 0:\n",
    "            for s_cat, link in zip(sub_categories, sub_categories_links):\n",
    "                if s_cat != \"Show less\":\n",
    "                    tab_in_focus+=1\n",
    "                    # Open a new window\n",
    "                    driver.execute_script(\"window.open('');\")\n",
    "                    # Switch to the new window\n",
    "                    driver.switch_to.window(driver.window_handles[tab_in_focus])\n",
    "    #                 print(tab_in_focus*\" \", tab_in_focus, s_cat, \"->\", link)\n",
    "                    driver.get(link)\n",
    "                    re_scrape(driver, 0)\n",
    "\n",
    "        current_category = \"\"\n",
    "        filters = []\n",
    "        product_links = []\n",
    "\n",
    "        try:\n",
    "            current_category = \"->\".join(total_categories[:total_categories.index(category_in_focus)+1])\n",
    "        except:\n",
    "            pass\n",
    "\n",
    "        try:\n",
    "            for item in driver.find_elements_by_class_name(\"ttx38n\"):\n",
    "                if item.get_attribute(\"class\") == \"ttx38n\":\n",
    "                    item.click()\n",
    "        except:\n",
    "            pass\n",
    "\n",
    "        try:\n",
    "            for item in driver.find_elements_by_class_name(\"QvtND5\")[::-1]:\n",
    "                if \"MORE\" in item.text:\n",
    "                    driver.execute_script(\"arguments[0].click();\", item)\n",
    "        except:\n",
    "            pass\n",
    "\n",
    "        try:\n",
    "            filters = [ filter_item.text.split(\"\\n\") for filter_item in driver.find_elements_by_class_name(\"_2hbLCH\")[1:] ]\n",
    "        except:\n",
    "            pass\n",
    "\n",
    "        try:\n",
    "            product_class_name = \"IRpwTa\" if check_exists_by_class_name(driver, \"IRpwTa\") else \"s1Q9rs\"\n",
    "            product_links = [ item.get_attribute('href') for item in driver.find_elements_by_class_name(product_class_name) ]\n",
    "        except:\n",
    "            pass\n",
    "\n",
    "        dict_t =  {\n",
    "            \"current_category\": current_category,\n",
    "            \"filters\": filters,\n",
    "            \"product_links\": product_links\n",
    "        }\n",
    "\n",
    "        product_list.append(dict_t.copy())\n",
    "    \n",
    "    if tab_in_focus != 0:\n",
    "        driver.close()\n",
    "        tab_in_focus-=1\n",
    "        driver.switch_to.window(driver.window_handles[tab_in_focus])\n",
    "    \n",
    "    return True\n",
    "\n",
    "if __name__ == \"__main__\":\n",
    "    links_filepath = input(\"Enter links filepath : \")\n",
    "    output_filepath = input(\"Enter output folder : \")\n",
    "    \n",
    "    if not os.path.exists(output_filepath):\n",
    "        os.mkdir(output_filepath)\n",
    "    \n",
    "    urls = read_url()\n",
    "\n",
    "    ChromeOptions = webdriver.ChromeOptions()\n",
    "    ChromeOptions.add_argument('--disable-browser-side-navigation')\n",
    "    driver = webdriver.Chrome()\n",
    "    driver.set_page_load_timeout(30)\n",
    "    \n",
    "    for index, url in enumerate(urls):\n",
    "        try:\n",
    "            print(\"Progress - {}/{}\".format(index+1,len(urls)), end=\"\\r\")\n",
    "            tab_in_focus = 0\n",
    "            visited_links = []\n",
    "            visited_links.append(url)\n",
    "            driver.get(url)\n",
    "            re_scrape(driver, 1)\n",
    "            with open(\"{}/{}.json\".format(output_filepath, index), 'w') as fout:\n",
    "                json.dump(product_list, fout, indent=4)\n",
    "        except Exception as e:\n",
    "            print(e)\n",
    "    driver.quit()\n",
    "    print(\"Finished\")\n",
    "            "
   ]
  },
  {
   "cell_type": "code",
   "execution_count": null,
   "metadata": {
    "ExecuteTime": {
     "end_time": "2021-01-09T15:32:11.670845Z",
     "start_time": "2021-01-09T15:30:15.192018Z"
    }
   },
   "outputs": [],
   "source": [
    "\n",
    "tab_in_focus = 0\n",
    "url = 'https://www.flipkart.com/footwear/pr?sid=osp&otracker=categorytree'\n",
    "# url = 'https://www.flipkart.com/mens-footwear/pr?sid=osp%2Ccil&otracker=categorytree'\n",
    "category = 'Footwear'\n",
    "Thread(target=write_to_file, daemon=True).start()\n",
    "ChromeOptions = webdriver.ChromeOptions()\n",
    "ChromeOptions.add_argument('--disable-browser-side-navigation')\n",
    "driver = webdriver.Chrome()\n",
    "# driver = webdriver.Firefox()\n",
    "driver.set_page_load_timeout(30)\n",
    "driver.get(url)\n",
    "re_scrape(driver)\n",
    "print(\"Finish\")\n",
    "# driver.quit()"
   ]
  },
  {
   "cell_type": "code",
   "execution_count": null,
   "metadata": {
    "ExecuteTime": {
     "end_time": "2021-01-09T11:52:44.559051Z",
     "start_time": "2021-01-09T11:52:33.909654Z"
    }
   },
   "outputs": [],
   "source": [
    "url = \"https://www.flipkart.com/footwear/womens-footwear/pr?sid=osp,iko&otracker=categorytree\"\n",
    "ChromeOptions = webdriver.ChromeOptions()\n",
    "ChromeOptions.add_argument('--disable-browser-side-navigation')\n",
    "driver = webdriver.Chrome()\n",
    "# driver = webdriver.Firefox()\n",
    "driver.set_page_load_timeout(30)\n",
    "driver.get(url)"
   ]
  },
  {
   "cell_type": "code",
   "execution_count": null,
   "metadata": {
    "ExecuteTime": {
     "end_time": "2021-01-09T11:53:38.105201Z",
     "start_time": "2021-01-09T11:53:38.063271Z"
    }
   },
   "outputs": [],
   "source": [
    "price = driver.find_elements_by_class_name(\"_3AsjWR\")[-1].text\n",
    "print(price)"
   ]
  },
  {
   "cell_type": "code",
   "execution_count": null,
   "metadata": {
    "ExecuteTime": {
     "end_time": "2021-01-09T11:54:07.225847Z",
     "start_time": "2021-01-09T11:54:06.714553Z"
    },
    "scrolled": true
   },
   "outputs": [],
   "source": [
    "for item in driver.find_elements_by_class_name(\"ttx38n\"):\n",
    "    if item.get_attribute(\"class\") == \"ttx38n\":\n",
    "        item.click()\n"
   ]
  },
  {
   "cell_type": "code",
   "execution_count": null,
   "metadata": {
    "ExecuteTime": {
     "end_time": "2021-01-09T12:00:22.758563Z",
     "start_time": "2021-01-09T12:00:22.665383Z"
    }
   },
   "outputs": [],
   "source": [
    "for item in driver.find_elements_by_class_name(\"QvtND5\")[::-1]:\n",
    "    if \"MORE\" in item.text:\n",
    "        driver.execute_script(\"arguments[0].click();\", item)"
   ]
  },
  {
   "cell_type": "code",
   "execution_count": null,
   "metadata": {
    "ExecuteTime": {
     "end_time": "2021-01-09T12:29:06.910855Z",
     "start_time": "2021-01-09T12:29:01.428433Z"
    }
   },
   "outputs": [],
   "source": [
    "[ filter_item.text.split(\"\\n\") for filter_item in driver.find_elements_by_class_name(\"_2hbLCH\")[1:] ]"
   ]
  },
  {
   "cell_type": "code",
   "execution_count": null,
   "metadata": {
    "ExecuteTime": {
     "end_time": "2021-01-09T13:26:57.909191Z",
     "start_time": "2021-01-09T13:26:57.076191Z"
    }
   },
   "outputs": [],
   "source": [
    "[ item.get_attribute('href') for item in driver.find_elements_by_class_name(\"IRpwTa\") ]"
   ]
  },
  {
   "cell_type": "code",
   "execution_count": null,
   "metadata": {
    "ExecuteTime": {
     "end_time": "2021-01-06T16:40:45.272957Z",
     "start_time": "2021-01-06T16:40:42.469121Z"
    }
   },
   "outputs": [],
   "source": [
    "driver.find_element_by_class_name('_2aDURW').text.replace(\"CATEGORIES\",\"\").strip().split(\"\\n\")\n",
    "driver.find_element_by_class_name('_1jJQdf').text\n",
    "# links = []\n",
    "# links.append([item.get_attribute('href') for item in driver.find_elements_by_class_name('_2SqgSY')])\n",
    "# print(links)"
   ]
  },
  {
   "cell_type": "code",
   "execution_count": null,
   "metadata": {
    "ExecuteTime": {
     "end_time": "2021-01-06T14:09:44.899139Z",
     "start_time": "2021-01-06T14:09:44.771148Z"
    }
   },
   "outputs": [],
   "source": []
  },
  {
   "cell_type": "code",
   "execution_count": null,
   "metadata": {
    "ExecuteTime": {
     "end_time": "2021-01-06T14:00:36.829068Z",
     "start_time": "2021-01-06T14:00:35.837095Z"
    }
   },
   "outputs": [],
   "source": [
    "# Open a new window\n",
    "driver.execute_script(\"window.open('');\")\n",
    "# Switch to the new window\n",
    "driver.switch_to.window(driver.window_handles[1])"
   ]
  },
  {
   "cell_type": "code",
   "execution_count": null,
   "metadata": {
    "ExecuteTime": {
     "end_time": "2021-01-06T14:07:44.949674Z",
     "start_time": "2021-01-06T14:07:44.922689Z"
    }
   },
   "outputs": [],
   "source": [
    "driver.switch_to.window(driver.window_handles[0])"
   ]
  },
  {
   "cell_type": "code",
   "execution_count": null,
   "metadata": {
    "ExecuteTime": {
     "end_time": "2021-01-06T14:00:36.829068Z",
     "start_time": "2021-01-06T14:00:35.837095Z"
    }
   },
   "outputs": [],
   "source": [
    "driver.get('https://www.flipkart.com/Women's Footwear/pr?sid=osp&otracker=categorytree')"
   ]
  }
 ],
 "metadata": {
  "kernelspec": {
   "display_name": "Python 3",
   "language": "python",
   "name": "python3"
  },
  "language_info": {
   "codemirror_mode": {
    "name": "ipython",
    "version": 3
   },
   "file_extension": ".py",
   "mimetype": "text/x-python",
   "name": "python",
   "nbconvert_exporter": "python",
   "pygments_lexer": "ipython3",
   "version": "3.6.8"
  }
 },
 "nbformat": 4,
 "nbformat_minor": 2
}
