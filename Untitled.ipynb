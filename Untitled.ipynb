{
 "cells": [
  {
   "cell_type": "code",
   "execution_count": 1,
   "metadata": {
    "ExecuteTime": {
     "end_time": "2020-12-08T07:31:37.139060Z",
     "start_time": "2020-12-08T07:31:36.526814Z"
    },
    "scrolled": true
   },
   "outputs": [],
   "source": [
    "import os\n",
    "import time\n",
    "from selenium import webdriver\n",
    "import csv\n",
    "import requests\n",
    "import secrets"
   ]
  },
  {
   "cell_type": "code",
   "execution_count": 2,
   "metadata": {
    "ExecuteTime": {
     "end_time": "2020-12-08T07:31:45.453231Z",
     "start_time": "2020-12-08T07:31:39.503080Z"
    }
   },
   "outputs": [],
   "source": [
    "driver = webdriver.Chrome()\n",
    "# driver.set_page_load_timeout(1000)"
   ]
  },
  {
   "cell_type": "code",
   "execution_count": 3,
   "metadata": {
    "ExecuteTime": {
     "end_time": "2020-12-07T20:02:04.515538Z",
     "start_time": "2020-12-07T20:01:53.586683Z"
    }
   },
   "outputs": [],
   "source": [
    "url = 'https://www.flipkart.com/kitchen-cookware-serveware/pr?sid=upp&otracker=nmenu_sub_Home%20%26%20Furniture_0_Kitchen%2C%20Cookware%20%26%20Serveware'\n",
    "driver.get(url)"
   ]
  },
  {
   "cell_type": "code",
   "execution_count": 18,
   "metadata": {
    "ExecuteTime": {
     "end_time": "2020-12-07T20:25:09.675771Z",
     "start_time": "2020-12-07T20:25:09.613775Z"
    }
   },
   "outputs": [
    {
     "data": {
      "text/plain": [
       "3221"
      ]
     },
     "execution_count": 18,
     "metadata": {},
     "output_type": "execute_result"
    }
   ],
   "source": [
    "links = []\n",
    "base_add = \"https://www.flipkart.com/\"\n",
    "limit = int(driver.find_element_by_xpath(\n",
    "    \"/html/body/div[1]/div/div[3]/div[2]/div[1]/div[2]/div[12]/div/div/span[1]\").text.split(\" \")[-1].replace(\",\",\"\"))\n",
    "\n",
    "for index in range(1,limit+1):\n",
    "    driver.get(url+\"&page={}\".format(index))\n",
    "    for item in driver.find_elements_by_class_name(\"s1Q9rs\"):\n",
    "        links.append(base_add+item.get_attribute('href'))\n",
    "    print(len(links))\n",
    "    "
   ]
  },
  {
   "cell_type": "code",
   "execution_count": 8,
   "metadata": {
    "ExecuteTime": {
     "end_time": "2020-12-08T20:51:55.286173Z",
     "start_time": "2020-12-08T20:51:53.584482Z"
    }
   },
   "outputs": [],
   "source": [
    "url = \"https://www.flipkart.com/tefal-duetto-plus-fry-pan-24-cm-diameter/p/itme8d7e566e6eaa?pid=PTPFPMERN5EHBJHB&lid=LSTPTPFPMERN5EHBJHBPR9BY7&marketplace=FLIPKART&srno=b_1_1&otracker=nmenu_sub_Home%20%26%20Furniture_0_Pans&fm=organic&iid=en_ou49R%2BibacpScGtxq7tyMXmDKWh3XtXYJm7gBRXZxuC3k8Xr%2By4RvA76Hml%2BhQITG%2BO5DtZ6vPA%2F374LfaUruQ%3D%3D&ppt=browse&ppn=browse&ssid=8j2sl3a5kg0000001607434432423\"\n",
    "driver.get(url)"
   ]
  },
  {
   "cell_type": "code",
   "execution_count": null,
   "metadata": {},
   "outputs": [],
   "source": [
    "Category \n",
    "Title \n",
    "Highlights (key-Value) \n",
    "Description \n",
    "Specifications \n",
    "Image \n",
    "Product Details (key Value)\n",
    "size\n",
    "size chart"
   ]
  },
  {
   "cell_type": "code",
   "execution_count": 37,
   "metadata": {
    "ExecuteTime": {
     "end_time": "2020-12-08T21:36:09.725473Z",
     "start_time": "2020-12-08T21:36:09.231496Z"
    }
   },
   "outputs": [
    {
     "name": "stdout",
     "output_type": "stream",
     "text": [
      "{'category': 'Clothing and Accessories', 'title': 'SHAPPHR \\nTypography Men Hooded Neck Orange, White, Black T-Shirt', 'highlights': '', 'size_chart': 'Size Chest Brand Size Shoulder Length Sleeve Length Waist,S 38 S 16.5 26.5 6.5 38,M 39 M 16.7 27.5 7 40,L 40 L 17.3 28.3 7.5 42,XL 42 XL 17.9 29.1 8 44,2XL 44 XXL 18.5 29.9 8.5 46', 'size': 'S,M,L,XL', 'description': '', 'specifications': '', 'price': '₹293', 'product_details': '', 'image': 'https://rukminim1.flixcart.com/image/880/1056/kg9qbgw0-0/t-shirt/c/0/7/s-shp395402-shapphr-original-imafwjx7tnbqqqhz.jpeg?q=50'}\n"
     ]
    }
   ],
   "source": [
    "category = \"\"\n",
    "title = \"\" \n",
    "highlights = \"\" \n",
    "description = \"\"\n",
    "specifications = \"\" \n",
    "image = \"\"\n",
    "product_details = \"\"\n",
    "size = \"\"\n",
    "size_chart = \"\"\n",
    "price = \"\"\n",
    "\n",
    "try:\n",
    "    category = driver.find_elements_by_class_name(\"_2whKao\")[1].text\n",
    "except:\n",
    "    pass\n",
    "\n",
    "try:\n",
    "    title = driver.find_element_by_class_name(\"yhB1nd\").text\n",
    "except:\n",
    "    pass\n",
    "\n",
    "try:\n",
    "    highlights = driver.find_element_by_class_name(\"_2418kt\").text.replace(\"\\n\", \",\")\n",
    "except:\n",
    "    pass\n",
    "\n",
    "try:\n",
    "    description = driver.find_element_by_class_name(\"_2o-xpa\").text\n",
    "except:\n",
    "    pass\n",
    "\n",
    "try:\n",
    "    specifications = driver.find_element_by_class_name(\"_1UhVsV\").text\n",
    "except:\n",
    "    pass\n",
    "\n",
    "try:\n",
    "    price = driver.find_element_by_class_name(\"_30jeq3\").text\n",
    "except:\n",
    "    pass\n",
    "\n",
    "try:\n",
    "    product_details = driver.find_element_by_class_name(\"_1v8OXw\").text\n",
    "except:\n",
    "    pass\n",
    "\n",
    "try:\n",
    "    image = driver.find_element_by_class_name(\"_396QI4\").get_attribute(\"src\")\n",
    "except:\n",
    "    pass\n",
    "\n",
    "try:\n",
    "    temp = []\n",
    "    for item in driver.find_elements_by_class_name(\"_22QfJJ\"):\n",
    "        if \"Size\" in item.text:\n",
    "            for item2 in item.find_elements_by_class_name(\"_3V2wfe\"):\n",
    "                temp.append(item2.text)\n",
    "            size = \",\".join(temp)\n",
    "except:\n",
    "    pass\n",
    "\n",
    "try:\n",
    "    driver.find_element_by_class_name(\"_1qs4Jt\").click()\n",
    "    size_chart = driver.find_element_by_class_name(\"_2WObml\").text.replace(\"\\n\", \",\")\n",
    "except:\n",
    "    pass\n",
    "\n",
    "\n",
    "dict_t = {\n",
    "            \"category\": category,\n",
    "            \"title\": title,\n",
    "            \"highlights\": highlights,\n",
    "            \"size_chart\": size_chart,\n",
    "            \"size\": size,\n",
    "            \"description\": description,\n",
    "            \"specifications\": specifications,\n",
    "            \"price\": price,\n",
    "            \"product_details\": product_details,\n",
    "            \"image\": image,\n",
    "            \"product_links\": \"\"\n",
    "        }\n",
    "print(dict_t)"
   ]
  },
  {
   "cell_type": "code",
   "execution_count": null,
   "metadata": {
    "ExecuteTime": {
     "start_time": "2020-11-28T13:39:37.930Z"
    }
   },
   "outputs": [
    {
     "name": "stdout",
     "output_type": "stream",
     "text": [
      "77964\n",
      "Current - 64 Remaining - 77900\r"
     ]
    }
   ],
   "source": [
    "import os\n",
    "import time\n",
    "from selenium import webdriver\n",
    "import csv\n",
    "import requests\n",
    "import secrets\n",
    "with open(\"myProductFile.txt\", \"r\", encoding=\"utf-8\") as f:\n",
    "    links = f.read()\n",
    "links = links.strip().split(\"\\n\")\n",
    "links = list(set(links))\n",
    "print(len(links))\n",
    "def connected_to_internet(url='http://www.google.com/', timeout=5):\n",
    "    try:\n",
    "        _ = requests.get(url, timeout=timeout)\n",
    "        return True\n",
    "    except requests.ConnectionError:\n",
    "#         print(\"No internet connection available.\", end=\"\\r\")\n",
    "        pass\n",
    "    return False\n",
    "field_names = (\"category\", \"title\", \"name\", \"size_chart\", \"size_fit\", \n",
    "               \"material_care\", \"specification\", \"price\", \"product_links\")\n",
    "with open(\"result.csv\", 'w', newline='', encoding=\"utf-8\") as csvfile:\n",
    "    writer = csv.DictWriter(csvfile, fieldnames = field_names)\n",
    "    writer.writeheader()\n",
    "start = 0\n",
    "driver = webdriver.Chrome()\n",
    "with open(\"result.csv\", 'a', newline='', encoding=\"utf-8\") as csvfile:\n",
    "    writer = csv.DictWriter(csvfile, fieldnames = field_names)\n",
    "    for index in range(start,len(links)):\n",
    "        try:\n",
    "            while not connected_to_internet():\n",
    "                time.sleep(1)\n",
    "                print(\"No internet...\", end=\"\\r\")\n",
    "            driver.get(links[index])\n",
    "            category = \"\"\n",
    "            title = \"\"\n",
    "            name = \"\"\n",
    "            size_chart = \"\"\n",
    "            size_fit = \"\"\n",
    "            material_care = \"\"\n",
    "            specifications = \"\"\n",
    "            price = \"\"\n",
    "            try:\n",
    "                category = driver.find_element_by_class_name(\"breadcrumbs-container\").text\n",
    "            except:\n",
    "                pass\n",
    "\n",
    "            try:\n",
    "                title = driver.find_element_by_class_name(\"pdp-title\").text\n",
    "                name = driver.find_element_by_class_name(\"pdp-name\").text\n",
    "            except:\n",
    "                pass\n",
    "\n",
    "            try:\n",
    "                temp = []\n",
    "                for size in driver.find_elements_by_class_name(\"size-buttons-unified-size\"):\n",
    "                    temp.append(size.text)\n",
    "                size_chart = \", \".join(temp)\n",
    "            except:\n",
    "                pass\n",
    "\n",
    "            try:\n",
    "                size_fit = driver.find_elements_by_class_name(\"pdp-sizeFitDescContent\")[0].text\n",
    "            except:\n",
    "                pass\n",
    "\n",
    "            try:\n",
    "                material_care = driver.find_elements_by_class_name(\"pdp-sizeFitDescContent\")[1].text\n",
    "            except:\n",
    "                pass\n",
    "\n",
    "            try:\n",
    "                temp = []\n",
    "                for row in driver.find_element_by_class_name(\"index-tableContainer\").find_elements_by_class_name(\"index-row\"):\n",
    "                    key = row.find_element_by_class_name(\"index-rowKey\").text\n",
    "                    value = row.find_element_by_class_name(\"index-rowValue\").text\n",
    "                    temp.append(\"{}: {}\".format(key, value))\n",
    "                specifications = \", \".join(temp)\n",
    "            except:\n",
    "                pass\n",
    "\n",
    "            try:\n",
    "                price = driver.find_element_by_class_name(\"pdp-price\").text\n",
    "            except:\n",
    "                pass\n",
    "\n",
    "\n",
    "            dict_t = {\n",
    "                \"category\": category,\n",
    "                \"title\": title,\n",
    "                \"name\": name,\n",
    "                \"size_chart\": size_chart,\n",
    "                \"size_fit\": size_fit,\n",
    "                \"material_care\": material_care,\n",
    "                \"specification\": specifications,\n",
    "                \"price\": price,\n",
    "                \"product_links\": links[index]\n",
    "            }\n",
    "\n",
    "            try:\n",
    "                writer.writerow(dict_t)\n",
    "                print(\"Current - {} Remaining - {}\".format(index+1, len(links) - index+1), end=\"\\r\")\n",
    "            except Exception as e:\n",
    "                print('Error while saving report - {} : {}'.format(index,e), end=\"\\n\")\n",
    "        except Exception as e:\n",
    "            print(\"Error - {} : {}\".format(index, e), end=\"\\n\")"
   ]
  },
  {
   "cell_type": "code",
   "execution_count": 13,
   "metadata": {
    "ExecuteTime": {
     "end_time": "2020-11-11T06:24:15.489293Z",
     "start_time": "2020-11-11T06:24:15.081916Z"
    }
   },
   "outputs": [
    {
     "name": "stdout",
     "output_type": "stream",
     "text": [
      "57\n"
     ]
    }
   ],
   "source": [
    "product_page_links = []\n",
    "for item in driver.find_elements_by_class_name(\"cat-submenu-level1\"):\n",
    "    product_page_links.append(item.get_attribute('href'))\n",
    "                              \n",
    "print(len(product_page_links))\n",
    "          "
   ]
  },
  {
   "cell_type": "code",
   "execution_count": 62,
   "metadata": {
    "ExecuteTime": {
     "end_time": "2020-11-11T08:48:20.288040Z",
     "start_time": "2020-11-11T08:46:58.532543Z"
    }
   },
   "outputs": [
    {
     "name": "stdout",
     "output_type": "stream",
     "text": [
      "481\n"
     ]
    }
   ],
   "source": [
    "product_list = []\n",
    "\n",
    "for item in product_page_links:\n",
    "    driver.get(item)\n",
    "    while True:\n",
    "        for item1 in driver.find_elements_by_class_name(\"category_name\"):\n",
    "            product_list.append({\"pro_page\": item, \"pro_links\": item1.get_attribute('href')})\n",
    "        try:\n",
    "            driver.find_element_by_class_name(\"next\").click()\n",
    "        except:\n",
    "            break\n",
    "        \n",
    "    \n",
    "        \n",
    "    \n",
    "        \n",
    "product_list = [dict(t) for t in {tuple(d.items()) for d in product_list}]\n",
    "print(len(product_list))"
   ]
  },
  {
   "cell_type": "code",
   "execution_count": 70,
   "metadata": {
    "ExecuteTime": {
     "end_time": "2020-11-11T09:44:53.677139Z",
     "start_time": "2020-11-11T09:31:19.651591Z"
    }
   },
   "outputs": [
    {
     "name": "stdout",
     "output_type": "stream",
     "text": [
      "480\r"
     ]
    }
   ],
   "source": [
    "data = []\n",
    "for index, pro in enumerate(product_list):\n",
    "    driver.get(pro[\"pro_links\"])\n",
    "    category = pro[\"pro_page\"].split(\"/\")[-3]\n",
    "    sub_category = pro[\"pro_page\"].split(\"/\")[-2]\n",
    "    title = \"\"\n",
    "    price = \"\"\n",
    "    description = \"\"\n",
    "    features = \"\"\n",
    "    brand = \"\"\n",
    "    manufacturer = \"\"\n",
    "    images = []\n",
    "    try:\n",
    "        title = driver.find_element_by_class_name(\"title-section\").text\n",
    "    except:\n",
    "        pass\n",
    "    try:\n",
    "        price = driver.find_element_by_class_name(\"final-price\").text\n",
    "    except:\n",
    "        pass\n",
    "    \n",
    "    try:\n",
    "        description = driver.find_element_by_id(\"first_desc\").text\n",
    "    except:\n",
    "        pass\n",
    "    \n",
    "    try:\n",
    "        features = driver.find_element_by_id(\"third_desc\").text\n",
    "    except:\n",
    "        pass\n",
    "    \n",
    "    try:\n",
    "        for item in driver.find_element_by_class_name(\"prodDetTable\").find_element_by_tag_name(\"tbody\").find_elements_by_tag_name(\"tr\"):\n",
    "            if item.find_element_by_tag_name(\"th\").text == \"Brand\":\n",
    "                brand = item.find_element_by_tag_name(\"td\").text\n",
    "            elif item.find_element_by_tag_name(\"th\").text == \"Manufacturer\":\n",
    "                manufacturer = item.find_element_by_tag_name(\"td\").text\n",
    "    except:\n",
    "        pass\n",
    "    \n",
    "    try:\n",
    "        for item in driver.find_elements_by_class_name(\"swiper-slide\"):\n",
    "            temp = item.find_element_by_tag_name(\"img\").get_attribute(\"src\")\n",
    "            if \"https://www.jiomart.com/images/product/420x420/\" in temp:\n",
    "                images.append(temp)\n",
    "    except:\n",
    "        pass\n",
    "    data.append({\n",
    "        \"Category\": category,\n",
    "        \"Sub Category\": sub_category,\n",
    "        \"Title\": title,\n",
    "        \"Price\": price,\n",
    "        \"Description\": description,\n",
    "        \"Features\": features,\n",
    "        \"Brand\": brand,\n",
    "        \"Manufacturer\": manufacturer,\n",
    "        \"Product Link\": pro[\"pro_links\"],\n",
    "        \"Images\": \" || \".join(images)\n",
    "    })\n",
    "    \n",
    "    print(index, end=\"\\r\")"
   ]
  },
  {
   "cell_type": "code",
   "execution_count": 71,
   "metadata": {
    "ExecuteTime": {
     "end_time": "2020-11-11T09:48:49.052280Z",
     "start_time": "2020-11-11T09:48:49.037336Z"
    }
   },
   "outputs": [],
   "source": [
    "import pandas as pd\n",
    "df = pd.DataFrame(data)"
   ]
  },
  {
   "cell_type": "code",
   "execution_count": 72,
   "metadata": {
    "ExecuteTime": {
     "end_time": "2020-11-11T09:48:51.959780Z",
     "start_time": "2020-11-11T09:48:51.561481Z"
    }
   },
   "outputs": [],
   "source": [
    "df.to_excel(\"data.xlsx\", index=False)"
   ]
  },
  {
   "cell_type": "code",
   "execution_count": 58,
   "metadata": {
    "ExecuteTime": {
     "end_time": "2020-11-11T07:57:34.417270Z",
     "start_time": "2020-11-11T07:57:33.617061Z"
    },
    "scrolled": false
   },
   "outputs": [
    {
     "name": "stdout",
     "output_type": "stream",
     "text": [
      "8\n"
     ]
    }
   ],
   "source": [
    "category = \"\"\n",
    "sub_category = \"\"\n",
    "title = \"\"\n",
    "price = \"\"\n",
    "description = \"\"\n",
    "features = \"\"\n",
    "brand = \"\"\n",
    "manufacturer = \"\"\n",
    "images = []\n",
    "\n",
    "\n",
    "title = driver.find_element_by_class_name(\"title-section\").text\n",
    "price = driver.find_element_by_class_name(\"final-price\").text\n",
    "description = driver.find_element_by_id(\"first_desc\").text\n",
    "features = driver.find_element_by_id(\"third_desc\").text\n",
    "for item in driver.find_element_by_class_name(\"prodDetTable\").find_element_by_tag_name(\"tbody\").find_elements_by_tag_name(\"tr\"):\n",
    "    if item.find_element_by_tag_name(\"th\").text == \"Brand\":\n",
    "        brand = item.find_element_by_tag_name(\"td\").text\n",
    "    elif item.find_element_by_tag_name(\"th\").text == \"Manufacturer\":\n",
    "        manufacturer = item.find_element_by_tag_name(\"td\").text\n",
    "\n",
    "for item in driver.find_elements_by_class_name(\"swiper-slide\"):\n",
    "    temp = item.find_element_by_tag_name(\"img\").get_attribute(\"src\")\n",
    "    if \"https://www.jiomart.com/images/product/420x420/\" in temp:\n",
    "        images.append(temp)\n",
    "\n",
    "# print(images)\n",
    "\n",
    "print(len(images))"
   ]
  },
  {
   "cell_type": "code",
   "execution_count": 53,
   "metadata": {
    "ExecuteTime": {
     "end_time": "2020-11-11T07:55:39.618836Z",
     "start_time": "2020-11-11T07:55:39.612832Z"
    }
   },
   "outputs": [
    {
     "name": "stdout",
     "output_type": "stream",
     "text": [
      "https://www.jiomart.com/images/product/240x240/490000073/tata-iodised-salt-1-kg-0-20200621.jpeg\n"
     ]
    },
    {
     "data": {
      "text/plain": [
       "True"
      ]
     },
     "execution_count": 53,
     "metadata": {},
     "output_type": "execute_result"
    }
   ],
   "source": [
    "print(temp)\n",
    "\"https://www.jiomart.com/images/product/240x240/\" in temp\n",
    "    "
   ]
  },
  {
   "cell_type": "code",
   "execution_count": 49,
   "metadata": {
    "ExecuteTime": {
     "end_time": "2020-09-07T21:21:58.375979Z",
     "start_time": "2020-09-07T21:21:57.954942Z"
    }
   },
   "outputs": [
    {
     "name": "stdout",
     "output_type": "stream",
     "text": [
      "{'category': 'FRUITS & VEGETABLES', 'sub_category': 'FRESH VEGETABLES', 'item_group': 'POTATO, ONION & TOMATO', 'brand': 'Fresho', 'item_name': 'FRESHO Onion', 'title': 'Fresho Onion, 1 kg  ', 'about': 'About the Product\\nOnion is a vegetable which is almost like a staple in Indian food. This is also known to be one of the essential ingredients of raw salads. They come in different colours like white, red or yellow and are quite in demand in cold salads and hot soups. You can dice, slice or cut it in rings and put it in burgers and sandwiches. Onions emit a sharp flavour and fragrance once they are fried; it is due to the sulphur compound in the vegetable.\\nNutritional Facts\\nOnions are known to be rich in biotin. Most of the flavonoids which are known as anti-oxidants are concentrated more in the outer layers, so when you peel off the layers, you should remove as little as possible. Onions, like garlic, are also rich in sulphur compounds. Onions are known to contain manganese, copper, Vitamin B6, Vitamin C and dietary fibers along with phosphorus, folate and copper.\\nBenefits\\nOnions are known to have antiseptic, antimicrobial and antibiotic properties which help you to get rid of infections. If a piece of onion is inhaled, it can slow down or stop nose bleeding. Those who have sleeping disorders or insomnia can have a good night sleep if they have an onion every day. Onions also help to improve the functions of the digestive system; because it releases the digestive juices and cures any problem related to digestion.\\nOther Product Info\\nEAN Code: 10000148\\nCountry of origin: India\\nSourced & Marketed by: Supermarket Grocery Supplies Pvt. Ltd, No. 7, Service Road, Off 100 Feet Road Indiranagar Landmark: Above HDFC Bank Bangalore, Karnataka 560071\\nBest before 3 days from delivery date\\nFor Queries/Feedback/Complaints, Contact our Customer Care Executive at: Phone: 1860 123 1000 | Address: Supermarket Grocery Supplies Pvt Ltd. No7, Service Road, Domlur 100 Feet Road, Indiranagar, Bangalore 560071. | Email: customerservice@bigbasket.com\\nVariable weight policy\\nPlease note that fresh fruit and vegetables items will be billed based on exact weight during order processing (in case the actual weight exceeds the requested weight by more than 10%, you will be charged only for 10% excess weight).', 'package': ' 1 kg  ', 'mrp': 'Rs 34', 'thumbnail': 'https://www.bigbasket.com/media/uploads/p/l/10000148_28-fresho-onion.jpg', 'other_images': 'https://www.bigbasket.com/media/uploads/p/s/10000148_28-fresho-onion.jpg', 'item_url': 'https://www.bigbasket.com/pd/10000148/fresho-onion-1-kg/'}\n"
     ]
    }
   ],
   "source": [
    "field_names = [\"item_url\", \"category\",\"sub_category\",\"item_group\", \"brand\", \"item_name\", \"title\", \"about\", \"package\", \"mrp\", \"thumbnail\", \"other_images\"]\n",
    "with open(\"data1.csv\", 'w', newline='', encoding=\"utf-8\") as csvfile:\n",
    "    writer = csv.DictWriter(csvfile, fieldnames = field_names)\n",
    "    writer.writeheader()\n",
    "    try:\n",
    "        item_name = ''\n",
    "        category = ''\n",
    "        sub_category = ''\n",
    "        item_group = ''\n",
    "        brand_name = ''\n",
    "        about = ''\n",
    "        item_name = driver.find_element_by_css_selector(\"._3moNK\").get_attribute('textContent').split(\">\")[-1]\n",
    "        category = driver.find_element_by_css_selector(\"._3moNK\").get_attribute('textContent').split(\">\")[-4]\n",
    "        sub_category = driver.find_element_by_css_selector(\"._3moNK\").get_attribute('textContent').split(\">\")[-3]\n",
    "        item_group = driver.find_element_by_css_selector(\"._3moNK\").get_attribute('textContent').split(\">\")[-2]\n",
    "        brand_name = driver.find_element_by_class_name(\"_2zLWN\").text\n",
    "        temp = []\n",
    "        for item in driver.find_elements_by_class_name(\"_3ezVU\"):\n",
    "            temp.append(item.text)\n",
    "        about = \"\\n\".join(temp)\n",
    "    except:\n",
    "        print(url)\n",
    "    item_title = []\n",
    "    item_package = []\n",
    "    item_mrp = []\n",
    "    item_thumbnail = []\n",
    "    other_images = []\n",
    "    try:\n",
    "        if driver.find_element_by_xpath(\"/html/body/div[1]/div/div[2]/div[2]/div[3]/section[2]/div[1]/span\").text == \"Pack Sizes\":\n",
    "            for item, item1 in zip( driver.find_elements_by_class_name(\"_2j_7u\"), driver.find_elements_by_class_name(\"_3Yybm\")):\n",
    "                item.click()\n",
    "                item_title.append(driver.find_element_by_css_selector(\".GrE04\").get_attribute('textContent'))\n",
    "                item_package.append(item1.text)\n",
    "                item_mrp.append(item.text)\n",
    "                item_thumbnail.append(driver.find_element_by_css_selector(\"div._2FbOx:nth-child(1) > img:nth-child(1)\").get_attribute('src'))\n",
    "                links = []\n",
    "                for item2 in driver.find_element_by_class_name(\"_1lzMu\").find_elements_by_tag_name(\"div\"):\n",
    "                    links.append(item2.find_element_by_tag_name(\"img\").get_attribute('src'))\n",
    "\n",
    "                other_images.append(\" | \".join(links))\n",
    "    except:\n",
    "        item_title.append(driver.find_element_by_css_selector(\".GrE04\").get_attribute('textContent'))\n",
    "        item_package.append(driver.find_element_by_css_selector(\".GrE04\").get_attribute('textContent').split(\",\")[-1])\n",
    "        item_mrp.append(driver.find_element_by_css_selector(\".IyLvo\").get_attribute('textContent'))\n",
    "        item_thumbnail.append(driver.find_element_by_css_selector(\"div._2FbOx:nth-child(1) > img:nth-child(1)\").get_attribute('src'))\n",
    "        links = []\n",
    "        for item2 in driver.find_element_by_class_name(\"_1lzMu\").find_elements_by_tag_name(\"div\"):\n",
    "            links.append(item2.find_element_by_tag_name(\"img\").get_attribute('src'))\n",
    "\n",
    "        other_images.append(\" | \".join(links))\n",
    "\n",
    "    for title, package, mrp, thumbnail, o_image in zip(item_title, item_package, item_mrp, item_thumbnail, other_images):\n",
    "        data = {\n",
    "            \"category\": category,\n",
    "            \"sub_category\": sub_category,\n",
    "            \"item_group\": item_group,\n",
    "            \"brand\": brand_name,\n",
    "            \"item_name\": item_name,\n",
    "            \"title\": title,\n",
    "            \"about\": about,\n",
    "            \"package\": package,\n",
    "            \"mrp\": mrp,\n",
    "            \"thumbnail\": thumbnail,\n",
    "            \"other_images\": o_image,\n",
    "            \"item_url\": url\n",
    "\n",
    "        }\n",
    "        print(data)\n",
    "        try:\n",
    "            writer.writerow(data)\n",
    "        except Exception as e:\n",
    "            print('Error while saving report - {}'.format(e))\n"
   ]
  },
  {
   "cell_type": "code",
   "execution_count": 44,
   "metadata": {
    "ExecuteTime": {
     "end_time": "2020-09-07T20:55:58.439144Z",
     "start_time": "2020-09-07T20:55:58.293136Z"
    },
    "scrolled": true
   },
   "outputs": [
    {
     "name": "stdout",
     "output_type": "stream",
     "text": [
      "About the Product\n",
      "Onion is a vegetable which is almost like a staple in Indian food. This is also known to be one of the essential ingredients of raw salads. They come in different colours like white, red or yellow and are quite in demand in cold salads and hot soups. You can dice, slice or cut it in rings and put it in burgers and sandwiches. Onions emit a sharp flavour and fragrance once they are fried; it is due to the sulphur compound in the vegetable.\n",
      "Nutritional Facts\n",
      "Onions are known to be rich in biotin. Most of the flavonoids which are known as anti-oxidants are concentrated more in the outer layers, so when you peel off the layers, you should remove as little as possible. Onions, like garlic, are also rich in sulphur compounds. Onions are known to contain manganese, copper, Vitamin B6, Vitamin C and dietary fibers along with phosphorus, folate and copper.\n",
      "Benefits\n",
      "Onions are known to have antiseptic, antimicrobial and antibiotic properties which help you to get rid of infections. If a piece of onion is inhaled, it can slow down or stop nose bleeding. Those who have sleeping disorders or insomnia can have a good night sleep if they have an onion every day. Onions also help to improve the functions of the digestive system; because it releases the digestive juices and cures any problem related to digestion.\n",
      "Other Product Info\n",
      "EAN Code: 10000148\n",
      "Country of origin: India\n",
      "Sourced & Marketed by: Supermarket Grocery Supplies Pvt. Ltd, No. 7, Service Road, Off 100 Feet Road Indiranagar Landmark: Above HDFC Bank Bangalore, Karnataka 560071\n",
      "Best before 3 days from delivery date\n",
      "For Queries/Feedback/Complaints, Contact our Customer Care Executive at: Phone: 1860 123 1000 | Address: Supermarket Grocery Supplies Pvt Ltd. No7, Service Road, Domlur 100 Feet Road, Indiranagar, Bangalore 560071. | Email: customerservice@bigbasket.com\n",
      "Variable weight policy\n",
      "Please note that fresh fruit and vegetables items will be billed based on exact weight during order processing (in case the actual weight exceeds the requested weight by more than 10%, you will be charged only for 10% excess weight).\n"
     ]
    }
   ],
   "source": [
    "for item in driver.find_elements_by_class_name(\"_3ezVU\"):\n",
    "    print(item.text)"
   ]
  }
 ],
 "metadata": {
  "kernelspec": {
   "display_name": "Python 3.6.8 64-bit",
   "language": "python",
   "name": "python36864bit442b44ef86ba4dfaba1ce81f1c13c21c"
  },
  "language_info": {
   "codemirror_mode": {
    "name": "ipython",
    "version": 3
   },
   "file_extension": ".py",
   "mimetype": "text/x-python",
   "name": "python",
   "nbconvert_exporter": "python",
   "pygments_lexer": "ipython3",
   "version": "3.6.8"
  }
 },
 "nbformat": 4,
 "nbformat_minor": 2
}
